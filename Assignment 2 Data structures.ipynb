{
 "cells": [
  {
   "cell_type": "markdown",
   "id": "d6a41cd0-dd4f-4a4b-917f-34c4ebe0f97d",
   "metadata": {},
   "source": [
    "DATA STRUCTURES IN PYTHON"
   ]
  },
  {
   "cell_type": "markdown",
   "id": "d3c9c768-7eb6-482f-a5f0-6b667285f119",
   "metadata": {},
   "source": [
    "## Topic 1: List Excercise"
   ]
  },
  {
   "cell_type": "code",
   "execution_count": null,
   "id": "9c5b5de0-716f-4cf6-aa14-0a2b7c6ef1fb",
   "metadata": {},
   "outputs": [],
   "source": [
    "Q1. Create a list of 5 random numbers and print the list. "
   ]
  },
  {
   "cell_type": "code",
   "execution_count": 19,
   "id": "17bf1b9d-08ab-4b1f-8a5f-b405024f27db",
   "metadata": {},
   "outputs": [
    {
     "name": "stdout",
     "output_type": "stream",
     "text": [
      "Numbers= [5, 12, 8, 20, 3]\n"
     ]
    }
   ],
   "source": [
    "Numbers= [5,12,8,20,3]\n",
    "print(\"Numbers=\",Numbers)"
   ]
  },
  {
   "cell_type": "code",
   "execution_count": null,
   "id": "cf052d02-17a9-40a9-b4f9-c05882593592",
   "metadata": {},
   "outputs": [],
   "source": [
    "Q2. Insert 3 new values to the list and print the updated list."
   ]
  },
  {
   "cell_type": "code",
   "execution_count": 77,
   "id": "578817d1-5adf-4b43-8be5-93f79f524878",
   "metadata": {},
   "outputs": [
    {
     "name": "stdout",
     "output_type": "stream",
     "text": [
      "Updated list= [5, 12, 8, 20, 3, 2, 6, 10]\n"
     ]
    }
   ],
   "source": [
    "Numbers.extend([2,6,10])\n",
    "print(\"Updated list=\",Numbers)"
   ]
  },
  {
   "cell_type": "code",
   "execution_count": null,
   "id": "82e0f3c0-140b-4fef-a36c-79b539ffee1b",
   "metadata": {},
   "outputs": [],
   "source": [
    "Q3. Try to use a for loop to print each element in the list. "
   ]
  },
  {
   "cell_type": "code",
   "execution_count": 79,
   "id": "a23d38aa-5797-4207-8dcb-ed81f8acb12d",
   "metadata": {},
   "outputs": [
    {
     "name": "stdout",
     "output_type": "stream",
     "text": [
      "5\n",
      "12\n",
      "8\n",
      "20\n",
      "3\n",
      "2\n",
      "6\n",
      "10\n"
     ]
    }
   ],
   "source": [
    "for i in Numbers :\n",
    " print(i)"
   ]
  },
  {
   "cell_type": "markdown",
   "id": "c3447ee4-2e6d-4d05-91c8-049190de5d52",
   "metadata": {},
   "source": [
    "## Topic 2: Dictionary Exercise "
   ]
  },
  {
   "cell_type": "code",
   "execution_count": null,
   "id": "4381034c-edab-4a51-a985-86af61897c98",
   "metadata": {},
   "outputs": [],
   "source": [
    "Q1. Create a dictionary with keys 'name', 'age', and 'address' and values 'John', 25, and 'New York' respectively"
   ]
  },
  {
   "cell_type": "code",
   "execution_count": 23,
   "id": "68e1a1d7-03e6-4908-b309-e4a670e82f32",
   "metadata": {},
   "outputs": [
    {
     "name": "stdout",
     "output_type": "stream",
     "text": [
      "Person= {'name': 'John', 'age': 25, 'address': 'New York'}\n"
     ]
    }
   ],
   "source": [
    "Person={\"name\":\"John\",\n",
    "        \"age\":25,\n",
    "        \"address\":\"New York\"}\n",
    "print(\"Person=\",Person)"
   ]
  },
  {
   "cell_type": "code",
   "execution_count": null,
   "id": "3e30fe8c-dd75-4522-b9a4-b4f873b58684",
   "metadata": {},
   "outputs": [],
   "source": [
    "Q2. Add a new key-value pair to the dictionary created in Q1 with key 'phone' and value '1234567890'. "
   ]
  },
  {
   "cell_type": "code",
   "execution_count": 11,
   "id": "b8aaa1b7-51aa-47c4-a14f-8c7cceaf542c",
   "metadata": {},
   "outputs": [
    {
     "name": "stdout",
     "output_type": "stream",
     "text": [
      "Updated dictionary= {'name': 'John', 'age': 25, 'address': 'New York', 'phone': '1234567890'}\n"
     ]
    }
   ],
   "source": [
    "Person['phone'] = '1234567890'\n",
    "print(\"Updated dictionary=\",Person)"
   ]
  },
  {
   "cell_type": "markdown",
   "id": "d6e69368-c257-4e26-bb2a-a321619a993e",
   "metadata": {},
   "source": [
    "## Topic 3: Set Exercise "
   ]
  },
  {
   "cell_type": "code",
   "execution_count": null,
   "id": "55809b30-e529-4dbb-b9df-a7627f3d5d0d",
   "metadata": {},
   "outputs": [],
   "source": [
    "Q1 .Create a set with values 1, 2, 3, 4, and 5."
   ]
  },
  {
   "cell_type": "code",
   "execution_count": 25,
   "id": "31e1b6d9-d591-4288-8469-c280754dcbe7",
   "metadata": {},
   "outputs": [
    {
     "name": "stdout",
     "output_type": "stream",
     "text": [
      "Numbers= {1, 2, 3, 4, 5}\n"
     ]
    }
   ],
   "source": [
    "numbers_set={1,2,3,4,5}\n",
    "print(\"Numbers=\",numbers_set)"
   ]
  },
  {
   "cell_type": "code",
   "execution_count": null,
   "id": "db92a16f-9f8d-4882-b5e9-dc567d15642c",
   "metadata": {},
   "outputs": [],
   "source": [
    "Q2. Add the value 6 to the set created in Q1."
   ]
  },
  {
   "cell_type": "code",
   "execution_count": 59,
   "id": "9ed8d107-0eba-4883-97ac-bae86d10da26",
   "metadata": {},
   "outputs": [
    {
     "name": "stdout",
     "output_type": "stream",
     "text": [
      "Updated set after adding 6 = {1, 2, 3, 4, 5, 6}\n"
     ]
    }
   ],
   "source": [
    "numbers_set.add(6)\n",
    "print(\"Updated set after adding 6 =\",numbers_set)"
   ]
  },
  {
   "cell_type": "code",
   "execution_count": null,
   "id": "f4232075-240b-49d6-9bec-c878787a1a47",
   "metadata": {},
   "outputs": [],
   "source": [
    "Q3. Remove the value 3 from the set created in Q1."
   ]
  },
  {
   "cell_type": "code",
   "execution_count": 63,
   "id": "d656714d-c86f-44d0-b654-4d400866c631",
   "metadata": {},
   "outputs": [
    {
     "name": "stdout",
     "output_type": "stream",
     "text": [
      "Updated set after removing 3 = {1, 2, 4, 5, 6}\n"
     ]
    }
   ],
   "source": [
    "numbers_set.remove(3)\n",
    "print(\"Updated set after removing 3 =\",numbers_set)"
   ]
  },
  {
   "cell_type": "markdown",
   "id": "d20d8273-bd0b-458e-a61c-2ac6b78bed4f",
   "metadata": {},
   "source": [
    "## Topic 4:Tuple Exercise"
   ]
  },
  {
   "cell_type": "code",
   "execution_count": null,
   "id": "058c15dd-0cc5-4627-bfb6-c9a9d6385542",
   "metadata": {},
   "outputs": [],
   "source": [
    "Q1. Create a tuple with values 1, 2, 3, and 4 "
   ]
  },
  {
   "cell_type": "code",
   "execution_count": 69,
   "id": "605caa0a-cd3b-4478-a22d-ca4a213931a5",
   "metadata": {},
   "outputs": [
    {
     "name": "stdout",
     "output_type": "stream",
     "text": [
      " Number tuple= (1, 2, 3, 4)\n"
     ]
    }
   ],
   "source": [
    "Tuple=(1,2,3,4)\n",
    "print(\" Number tuple=\",Tuple)"
   ]
  },
  {
   "cell_type": "code",
   "execution_count": null,
   "id": "b72c1887-807e-43d7-af17-6c1843f51138",
   "metadata": {},
   "outputs": [],
   "source": [
    " Q2. Print the length of the tuple created in Q1."
   ]
  },
  {
   "cell_type": "code",
   "execution_count": 75,
   "id": "7493f228-e346-48aa-ad82-93080c81e216",
   "metadata": {},
   "outputs": [
    {
     "name": "stdout",
     "output_type": "stream",
     "text": [
      "The length of Number tuple= 4\n"
     ]
    }
   ],
   "source": [
    "print(\"The length of Number tuple=\",len(Tuple))"
   ]
  },
  {
   "cell_type": "code",
   "execution_count": null,
   "id": "64dfe3c6-28d0-4866-a4a0-b69b0e7e90e2",
   "metadata": {},
   "outputs": [],
   "source": []
  }
 ],
 "metadata": {
  "kernelspec": {
   "display_name": "Python [conda env:base] *",
   "language": "python",
   "name": "conda-base-py"
  },
  "language_info": {
   "codemirror_mode": {
    "name": "ipython",
    "version": 3
   },
   "file_extension": ".py",
   "mimetype": "text/x-python",
   "name": "python",
   "nbconvert_exporter": "python",
   "pygments_lexer": "ipython3",
   "version": "3.12.7"
  }
 },
 "nbformat": 4,
 "nbformat_minor": 5
}
