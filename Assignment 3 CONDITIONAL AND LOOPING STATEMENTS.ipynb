{
 "cells": [
  {
   "cell_type": "markdown",
   "id": "76c35cf1-870b-4a80-b6ff-52c2b9078d08",
   "metadata": {},
   "source": [
    "## CONDITIONAL AND LOOPING STATEMENTS"
   ]
  },
  {
   "cell_type": "markdown",
   "id": "ef9227b3-4824-4e96-92df-b08895d7bb9f",
   "metadata": {},
   "source": [
    "## Exercise 1 MonthNames.py\n",
    "Write a program that reads an integer value between 1 and 12 from the user and prints output the corresponding month of the year.\n",
    "An example run of the program (numbers in bold are typed in by the user) Enter the month: 3 Month 3 is March "
   ]
  },
  {
   "cell_type": "code",
   "execution_count": 3,
   "id": "64ae737b-62d7-4401-8909-58471391b2bb",
   "metadata": {},
   "outputs": [
    {
     "name": "stdin",
     "output_type": "stream",
     "text": [
      "Enter the month : 3\n"
     ]
    },
    {
     "name": "stdout",
     "output_type": "stream",
     "text": [
      "Month 3 is March\n"
     ]
    }
   ],
   "source": [
    "# MonthNames.py\n",
    "num=int(input('Enter the month :'))\n",
    "\n",
    "months=['January','February','March','April',\n",
    "        'May','June','July','August','September',\n",
    "        'October','November','December']\n",
    "\n",
    "if 1<=num<=12:\n",
    "    print(f'Month {num} is {months[num-1]}')\n",
    "\n",
    "else:\n",
    "    print('Invalid input number')"
   ]
  },
  {
   "cell_type": "markdown",
   "id": "6ecbb366-c6c9-4919-b50e-d264bd1deee6",
   "metadata": {},
   "source": [
    "## Exercise 2 \n",
    "A certain cinema currently sells tickets for a full price of 6 pounds, but always sells tickets for half price to people who are less than 16 years old, and for a third of the price for people who are 60 years old or more. An example run of the program (numbers in bold are typed in by the user) Enter your age: 63 Your ticket costs £2.00"
   ]
  },
  {
   "cell_type": "code",
   "execution_count": 8,
   "id": "e580eca2-3082-4e6d-aa5b-e56cd735569a",
   "metadata": {},
   "outputs": [
    {
     "name": "stdin",
     "output_type": "stream",
     "text": [
      "Enter your age 10\n"
     ]
    },
    {
     "name": "stdout",
     "output_type": "stream",
     "text": [
      "Your ticket costs £3.0\n"
     ]
    }
   ],
   "source": [
    "age=int(input('Enter your age'))\n",
    "price=6\n",
    "\n",
    "if age<16:\n",
    "    print(f'Your ticket costs £{price/2}')\n",
    "elif age>=60:\n",
    "    print(f'Your ticket costs  £{price/3}')\n",
    "else:\n",
    "    print(f'Your ticket costs  £{price}')"
   ]
  },
  {
   "cell_type": "markdown",
   "id": "18092ed1-27cc-4971-ac87-d3661eed5ae3",
   "metadata": {},
   "source": [
    " ## Exercise 3 BodyMassIndex.py\n",
    " Write a program to calculate your BMI and give weight status. Body Mass Index (BMI) is an internationally used measurement to check if you are a healthy weight for your height.The metric BMI formula accepts weight in kilograms and height in meters: BMI= weight(kg)/height2(m2) BMI Weight Status Categories table BMI range - kg/m2 Category Below 18.5 Underweight 18.5 -24.9 Normal 25 - 29.9 Overweight 30 & Above Obese An example run of the program (numbers in bold are typed in by the user) Enter your weight in (kg): 75 Enter your height in (m): 1.70 Your BMI is: 25.95 You are in the “overweight” range."
   ]
  },
  {
   "cell_type": "code",
   "execution_count": 1,
   "id": "9045730b-ea05-4db0-ab48-fdbf5829e3bc",
   "metadata": {},
   "outputs": [
    {
     "name": "stdin",
     "output_type": "stream",
     "text": [
      "Enter your weight in (kg) 70\n",
      "Enter your height in (m) 1.75\n"
     ]
    },
    {
     "name": "stdout",
     "output_type": "stream",
     "text": [
      "Your BMI is: 22.857142857142858\n",
      "You are in the 'Normal' range\n"
     ]
    }
   ],
   "source": [
    "weight=int(input('Enter your weight in (kg)'))\n",
    "height=float(input('Enter your height in (m)'))\n",
    "\n",
    "\n",
    "BMI = weight / (height * height)\n",
    "print(f'Your BMI is: {BMI}')\n",
    "\n",
    "if BMI <18.5:\n",
    "    print(\"You are in the 'Underweight' range\")\n",
    "    \n",
    "elif 18.5<=BMI<=24.9:\n",
    "    print(\"You are in the 'Normal' range\")\n",
    "\n",
    "elif 25<=BMI<=29.9:\n",
    "    print(\"You are in the 'Overweight' range\")\n",
    "else:\n",
    "    print(\"You are in the 'Obese' range\")"
   ]
  },
  {
   "cell_type": "markdown",
   "id": "77a1c410-2395-4422-b4aa-0e7dbacb78c3",
   "metadata": {},
   "source": [
    "## Exercise 4\n",
    " Write a Python program to receive 3 numbers from the user and print the greatest among them"
   ]
  },
  {
   "cell_type": "code",
   "execution_count": 7,
   "id": "a907aa63-49e2-4648-b27d-c197b0732f28",
   "metadata": {},
   "outputs": [
    {
     "name": "stdin",
     "output_type": "stream",
     "text": [
      "Enter first number:  40\n",
      "Enter second number:  30\n",
      "Enter third number:  20\n"
     ]
    },
    {
     "name": "stdout",
     "output_type": "stream",
     "text": [
      "The greatest number is 40\n"
     ]
    }
   ],
   "source": [
    "num1 = int(input(\"Enter first number: \"))\n",
    "num2 = int(input(\"Enter second number: \"))\n",
    "num3 = int(input(\"Enter third number: \"))\n",
    "\n",
    "if num1 >= num2 and num1 >= num3:\n",
    "    greatest = num1\n",
    "elif num2 >= num1 and num2 >= num3:\n",
    "    greatest = num2\n",
    "else:\n",
    "    greatest = num3\n",
    "\n",
    "print(f\"The greatest number is {greatest}\")"
   ]
  },
  {
   "cell_type": "markdown",
   "id": "76f6a5d6-fd28-4f69-a724-7be09d240f71",
   "metadata": {},
   "source": [
    "## Exercise 5\n",
    "Find the factorial of a given number using loops(note the number is received from the user)"
   ]
  },
  {
   "cell_type": "code",
   "execution_count": 9,
   "id": "e13da408-799b-4257-aa9c-f6be67f8055c",
   "metadata": {},
   "outputs": [
    {
     "name": "stdin",
     "output_type": "stream",
     "text": [
      "Enter the number 6\n"
     ]
    },
    {
     "name": "stdout",
     "output_type": "stream",
     "text": [
      "The factorial of 6 is 720\n"
     ]
    }
   ],
   "source": [
    "number=int(input('Enter the number'))\n",
    "factorial=1\n",
    "i=1\n",
    "while i<=number:\n",
    "    factorial*=i\n",
    "    i+=1\n",
    "print(f'The factorial of {number} is {factorial}')"
   ]
  },
  {
   "cell_type": "markdown",
   "id": "f2b5f306-07f4-497a-8b69-da7fbc49b70e",
   "metadata": {},
   "source": [
    "## Exercise 6\n",
    "Reverse a number using while loop\n"
   ]
  },
  {
   "cell_type": "code",
   "execution_count": 15,
   "id": "fc5d4b31-8e88-44e7-9298-50e4933efa16",
   "metadata": {},
   "outputs": [
    {
     "name": "stdin",
     "output_type": "stream",
     "text": [
      "Enter the number: 14456782\n"
     ]
    },
    {
     "name": "stdout",
     "output_type": "stream",
     "text": [
      "The reverse of a given number is 28765441\n"
     ]
    }
   ],
   "source": [
    "number=int(input('Enter the number:'))\n",
    "rev=0\n",
    "\n",
    "while number>0:\n",
    "    lst_digit=number%10\n",
    "    rev=rev*10+lst_digit\n",
    "    number=number//10\n",
    "print(f'The reverse of a given number is {rev}')"
   ]
  },
  {
   "cell_type": "markdown",
   "id": "ee686247-0ab0-4ac8-baba-671a77eb9210",
   "metadata": {},
   "source": [
    "## Exercise 7\n",
    "Finding the multiples of a number using loop"
   ]
  },
  {
   "cell_type": "code",
   "execution_count": 17,
   "id": "d838c840-b51f-4723-ab81-71b5c38d80e5",
   "metadata": {},
   "outputs": [
    {
     "name": "stdin",
     "output_type": "stream",
     "text": [
      "Enter the number 5\n",
      "Enter the count 3\n"
     ]
    },
    {
     "name": "stdout",
     "output_type": "stream",
     "text": [
      "5 10 15 "
     ]
    }
   ],
   "source": [
    "n=int(input('Enter the number'))\n",
    "count=int(input('Enter the count'))\n",
    "i=1\n",
    "while i<=count:\n",
    "    m=i*n\n",
    "    print(m,end=\" \")\n",
    "    i+=1\n",
    "   "
   ]
  },
  {
   "cell_type": "markdown",
   "id": "ecad7975-3566-492a-893c-a894225f75fd",
   "metadata": {},
   "source": [
    "## Exercise 8\n",
    "Write a program to print the inputted value as it is and break the loop if the value is 'done'. Example run of the program :hello there hello there :finished finished :done Done"
   ]
  },
  {
   "cell_type": "code",
   "execution_count": 32,
   "id": "f17e3d4f-4eb0-4f1f-bd24-6d4abbbda30e",
   "metadata": {},
   "outputs": [
    {
     "name": "stdin",
     "output_type": "stream",
     "text": [
      ": hello there\n"
     ]
    },
    {
     "name": "stdout",
     "output_type": "stream",
     "text": [
      "hello there\n"
     ]
    },
    {
     "name": "stdin",
     "output_type": "stream",
     "text": [
      ": finished\n"
     ]
    },
    {
     "name": "stdout",
     "output_type": "stream",
     "text": [
      "finished\n"
     ]
    },
    {
     "name": "stdin",
     "output_type": "stream",
     "text": [
      ": done\n"
     ]
    },
    {
     "name": "stdout",
     "output_type": "stream",
     "text": [
      "Done\n"
     ]
    }
   ],
   "source": [
    "while True:\n",
    "    user_input = input(\":\")  \n",
    "    \n",
    "    if user_input == \"done\" :\n",
    "        print('Done')\n",
    "        break  \n",
    "    print(user_input) "
   ]
  },
  {
   "cell_type": "markdown",
   "id": "8df39a2e-9f51-4b65-954f-afe285f80c7d",
   "metadata": {},
   "source": [
    "## Exercise 9\n",
    " Write a program that prints the numbers from 1 to 10. But for multiples of three print \"Fizz\" instead of the number and for the multiple of five print \"Buzz\". For numbers which are multiples of both three and five print \"FizzBuzz\"\n"
   ]
  },
  {
   "cell_type": "code",
   "execution_count": 34,
   "id": "f00bb439-08fa-44f5-ae5d-3a6a02b3dba1",
   "metadata": {},
   "outputs": [
    {
     "name": "stdout",
     "output_type": "stream",
     "text": [
      "1\n",
      "2\n",
      "Fizz\n",
      "4\n",
      "Buzz\n",
      "Fizz\n",
      "7\n",
      "8\n",
      "Fizz\n",
      "Buzz\n"
     ]
    }
   ],
   "source": [
    "for i in range(1,11):\n",
    "    if i%3==0 and i%5==0:\n",
    "        print('FizzBuzz')\n",
    "    elif i%3==0:\n",
    "        print('Fizz')\n",
    "    elif i%5==0:\n",
    "        print('Buzz')\n",
    "    else:\n",
    "        print(i)"
   ]
  },
  {
   "cell_type": "markdown",
   "id": "f03a47d0-1823-4d4e-a774-cdbc43c647e1",
   "metadata": {},
   "source": [
    "## Exercise 10\n",
    "Write a program to print the following pattern: \n",
    "1. 5 4 3 2 1\n",
    "2.  4 3 2 1\n",
    "3. 3 2 1\n",
    "4.   2 1\n",
    "5.    1 \n",
    "\n"
   ]
  },
  {
   "cell_type": "code",
   "execution_count": 49,
   "id": "60b87aa1-e46c-4391-a723-633a25a9d23b",
   "metadata": {},
   "outputs": [
    {
     "name": "stdout",
     "output_type": "stream",
     "text": [
      "54321\n",
      "\n",
      "4321\n",
      "\n",
      "321\n",
      "\n",
      "21\n",
      "\n",
      "1\n",
      "\n"
     ]
    }
   ],
   "source": [
    "for j in range(5,0,-1):\n",
    "    for i in range(j,0,-1):\n",
    "        print(i,end='')\n",
    "    print('\\n')"
   ]
  },
  {
   "cell_type": "code",
   "execution_count": null,
   "id": "c5ac3918-ab5e-4c07-a0d5-29d6f7fffa24",
   "metadata": {},
   "outputs": [],
   "source": []
  }
 ],
 "metadata": {
  "kernelspec": {
   "display_name": "Python [conda env:base] *",
   "language": "python",
   "name": "conda-base-py"
  },
  "language_info": {
   "codemirror_mode": {
    "name": "ipython",
    "version": 3
   },
   "file_extension": ".py",
   "mimetype": "text/x-python",
   "name": "python",
   "nbconvert_exporter": "python",
   "pygments_lexer": "ipython3",
   "version": "3.12.7"
  }
 },
 "nbformat": 4,
 "nbformat_minor": 5
}
