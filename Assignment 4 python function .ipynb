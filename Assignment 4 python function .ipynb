{
 "cells": [
  {
   "cell_type": "markdown",
   "id": "9d975c2a-4ac6-404e-9500-3b3dba183644",
   "metadata": {},
   "source": [
    "## Exercise 1\n",
    "Create a function that takes in three arguments, two of which are optional. The first argument should be a required positional argument, the second argument should be a keyword argument with a default value of 10, and the third argument should be a keyword argument with a default value of None. The function should print the sum of the first two arguments if the third argument is None, and print the product of all three arguments if the third argument is not None. "
   ]
  },
  {
   "cell_type": "code",
   "execution_count": 7,
   "id": "7253177e-a104-4bd6-a948-695a80cff6be",
   "metadata": {},
   "outputs": [],
   "source": [
    "def function(x, y=10, z=None):\n",
    "    if z == None:\n",
    "        print(x + y)\n",
    "    else:\n",
    "        print(x*y*z)\n",
    "      "
   ]
  },
  {
   "cell_type": "code",
   "execution_count": 17,
   "id": "c2a72c9a-cba8-4478-baf1-3d2b8677a921",
   "metadata": {},
   "outputs": [
    {
     "name": "stdout",
     "output_type": "stream",
     "text": [
      "48\n",
      "15\n",
      "16\n"
     ]
    }
   ],
   "source": [
    "function(2,4,6)\n",
    "function(7,8)\n",
    "function(6)"
   ]
  },
  {
   "cell_type": "markdown",
   "id": "2c7d7950-282f-4693-9c47-31fe35b6d4ee",
   "metadata": {},
   "source": [
    "## Exercise 2\n",
    "Write a function that takes in a list of strings and returns a new list with only the strings that have a length greater than or equal to 5.\n"
   ]
  },
  {
   "cell_type": "code",
   "execution_count": 2,
   "id": "9a23be41-b9cc-4b7f-adbe-83bd8896e6af",
   "metadata": {},
   "outputs": [],
   "source": [
    "def string_list(strings):\n",
    "    list = []\n",
    "    for s in strings:\n",
    "        if len(s) >= 5:\n",
    "            list.append(s)\n",
    "    return list"
   ]
  },
  {
   "cell_type": "code",
   "execution_count": 8,
   "id": "4578615e-ece7-4e09-af8a-e2083fa29b49",
   "metadata": {},
   "outputs": [
    {
     "name": "stdout",
     "output_type": "stream",
     "text": [
      "The filtered list is: ['apple', 'banana', 'strawberry', 'litchi']\n"
     ]
    }
   ],
   "source": [
    "words=string_list(['apple','banana','kiwi','strawberry','litchi','plum'])\n",
    "print('The filtered list is:',words)\n"
   ]
  },
  {
   "cell_type": "markdown",
   "id": "e69ba742-bb1f-4405-b3bb-842d66aa4b3f",
   "metadata": {},
   "source": [
    "## Exercise 3\n",
    "Write a Python program to evaluate a given mathematical expression using the eval() function. expression = \"3 * 5 + 2\" "
   ]
  },
  {
   "cell_type": "code",
   "execution_count": 10,
   "id": "1d7daae1-ee19-4434-9fcb-390739805680",
   "metadata": {},
   "outputs": [
    {
     "name": "stdout",
     "output_type": "stream",
     "text": [
      "Result is 17\n"
     ]
    }
   ],
   "source": [
    "expression = \"3 * 5 + 2\"\n",
    "result = eval(expression)\n",
    "print(\"Result is\", result)\n"
   ]
  },
  {
   "cell_type": "markdown",
   "id": "8f734023-2942-4122-8c1a-b9002ef2ecbd",
   "metadata": {},
   "source": [
    "## Exercise 4\n",
    " Write a Python program to filter out the prime numbers from a given list of integers using the filter() function."
   ]
  },
  {
   "cell_type": "code",
   "execution_count": 14,
   "id": "7ea74d7e-ae29-4351-9632-deb8eb498f2c",
   "metadata": {},
   "outputs": [
    {
     "name": "stdout",
     "output_type": "stream",
     "text": [
      "Prime Numbers are [3, 7, 9, 11, 23, 25, 13, 15, 17, 49]\n"
     ]
    }
   ],
   "source": [
    "def is_prime(n):\n",
    "    if n<2:\n",
    "        return False\n",
    "    for i in range(2,n):\n",
    "        if (n % i == 0):\n",
    "            return False\n",
    "        return True\n",
    "nums=[1,2,3,4,7,9,11,23,25,13,15,17,10,12,16,20,34,36,49]\n",
    "prime_numbers = list(filter(is_prime, nums))\n",
    "\n",
    "print(\"Prime Numbers are\", prime_numbers)"
   ]
  },
  {
   "cell_type": "markdown",
   "id": "7ee50c24-71d1-4155-a0dd-46ba228c327c",
   "metadata": {},
   "source": [
    "## Exercise 5\n",
    " Write a Python program to convert a list of strings to uppercase using the map() function.\n",
    "\n"
   ]
  },
  {
   "cell_type": "code",
   "execution_count": 16,
   "id": "0b9e7499-2334-41f7-9b71-8c8ea9e4f87f",
   "metadata": {},
   "outputs": [
    {
     "name": "stdout",
     "output_type": "stream",
     "text": [
      "Uppercase of strings: ['MY', 'NAME', 'IS', 'HANIYYA', 'FATHIMA']\n"
     ]
    }
   ],
   "source": [
    "words = [\"my\", \"name\", \"is\", \"haniyya\", \"fathima\"]\n",
    "uppercase_words = list(map(str.upper, words))\n",
    "print(\"Uppercase of strings:\", uppercase_words)\n"
   ]
  },
  {
   "cell_type": "code",
   "execution_count": null,
   "id": "d0653f89-477d-4368-bcd7-65978bd0e069",
   "metadata": {},
   "outputs": [],
   "source": []
  }
 ],
 "metadata": {
  "kernelspec": {
   "display_name": "Python [conda env:base] *",
   "language": "python",
   "name": "conda-base-py"
  },
  "language_info": {
   "codemirror_mode": {
    "name": "ipython",
    "version": 3
   },
   "file_extension": ".py",
   "mimetype": "text/x-python",
   "name": "python",
   "nbconvert_exporter": "python",
   "pygments_lexer": "ipython3",
   "version": "3.12.7"
  }
 },
 "nbformat": 4,
 "nbformat_minor": 5
}
