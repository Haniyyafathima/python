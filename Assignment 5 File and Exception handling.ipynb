{
 "cells": [
  {
   "cell_type": "markdown",
   "id": "abaa6a21-02aa-40fd-aa9b-e8e370210b6e",
   "metadata": {},
   "source": [
    "## Exercise 1\n",
    " Write a Python program to read a file and display its contents"
   ]
  },
  {
   "cell_type": "code",
   "execution_count": 72,
   "id": "c23f3873-9cf8-4964-b405-b19bf123b5af",
   "metadata": {},
   "outputs": [
    {
     "name": "stdout",
     "output_type": "stream",
     "text": [
      "The contents of the file is: Hello sir, how are you?\n"
     ]
    }
   ],
   "source": [
    "with open('C:/Users/haniy/Downloads/sample_text_file.txt','r') as abc:\n",
    "    content = abc.read()\n",
    "    print('The contents of the file is:',content)"
   ]
  },
  {
   "cell_type": "markdown",
   "id": "0c183b6f-0069-4368-9bfb-d73425f653f6",
   "metadata": {},
   "source": [
    "## Exercise 2\n",
    "Write a Python program to copy the contents of one file to another file"
   ]
  },
  {
   "cell_type": "code",
   "execution_count": 75,
   "id": "b03830f5-6f70-4533-b377-07599b0c8af3",
   "metadata": {},
   "outputs": [],
   "source": [
    "with open('C:/Users/haniy/Downloads/sample_text_file.txt','r') as file:\n",
    "    contents = file.read()\n",
    "with open('C:/Users/haniy/Downloads/sample2_text_file.txt','w') as copy:\n",
    "        copy.write(contents)"
   ]
  },
  {
   "cell_type": "markdown",
   "id": "8b9c5050-5562-439d-9423-5de05bdbc5cc",
   "metadata": {},
   "source": [
    "## Exercise 3\n",
    "Write a Python program to read the content of a file and count the total number of words in that file."
   ]
  },
  {
   "cell_type": "code",
   "execution_count": 70,
   "id": "124fe067-d038-4a50-9e4d-a28d6154ae52",
   "metadata": {},
   "outputs": [
    {
     "name": "stdout",
     "output_type": "stream",
     "text": [
      "The total number of words is: 5\n"
     ]
    }
   ],
   "source": [
    "with open('C:/Users/haniy/Downloads/sample_text_file.txt','r') as file:\n",
    "    content = file.read()\n",
    "    count = len(content.split())\n",
    "    print('The total number of words is:',count)"
   ]
  },
  {
   "cell_type": "markdown",
   "id": "a514127f-9ff0-4462-8a18-bb3c1e5cb737",
   "metadata": {},
   "source": [
    "## Exercise 4\n",
    "Write a Python program that prompts the user to input a string and converts it to an integer. Use try-except blocks to handle any exceptions that might occur "
   ]
  },
  {
   "cell_type": "code",
   "execution_count": 104,
   "id": "14c7594e-789c-40e5-b16e-567779494ebb",
   "metadata": {},
   "outputs": [
    {
     "name": "stdin",
     "output_type": "stream",
     "text": [
      "Enter a number:  49.3\n"
     ]
    },
    {
     "name": "stdout",
     "output_type": "stream",
     "text": [
      "Error: Invalid input! Please enter a valid integer.\n"
     ]
    }
   ],
   "source": [
    "def convert_to_integer():\n",
    "    try:\n",
    "        user_input = input(\"Enter a number: \") \n",
    "        number = int(user_input) \n",
    "        print(f\"Conversion successful! The integer value is: {number}\")\n",
    "    except ValueError:\n",
    "        print(\"Error: Invalid input! Please enter a valid integer.\")\n",
    "   \n",
    "convert_to_integer()\n",
    "\n"
   ]
  },
  {
   "cell_type": "markdown",
   "id": "0c56b4c1-1600-414f-8715-1a7e90cd95a9",
   "metadata": {},
   "source": [
    "## Exercise 5\n",
    " Write a Python program that prompts the user to input a list of integers and raises an exception if any of the integers in the list are negative."
   ]
  },
  {
   "cell_type": "code",
   "execution_count": 108,
   "id": "7111790a-1c55-4d20-b20e-a92127b59f3e",
   "metadata": {},
   "outputs": [
    {
     "name": "stdin",
     "output_type": "stream",
     "text": [
      "Enter a list of integers separated by spaces:  23 45 66 -76 778 -56\n"
     ]
    },
    {
     "name": "stdout",
     "output_type": "stream",
     "text": [
      "Error: Negative numbers are not allowed\n"
     ]
    }
   ],
   "source": [
    "try:\n",
    "    user_input = input(\"Enter a list of integers separated by spaces: \")\n",
    "    numbers = list(map(int, user_input.split()))\n",
    "    for i in numbers:\n",
    "        if i<0:\n",
    "            raise Exception('Error: Negative numbers are not allowed')\n",
    "    print('The valid integers are: ',numbers)\n",
    "except ValueError:\n",
    "    print('Error: Invalid input, please enter only integers')\n",
    "except Exception as e:\n",
    "    print(e)"
   ]
  },
  {
   "cell_type": "markdown",
   "id": "98763bae-ee64-4ef1-8255-c66949dea7e2",
   "metadata": {},
   "source": [
    "## Exercise 6\n",
    "Write a Python program that prompts the user to input a list of integers and computes the average of those integers. Use try-except blocks to handle any exceptions that might occur.use the finally clause to print a message indicating that the program has finished running."
   ]
  },
  {
   "cell_type": "code",
   "execution_count": 17,
   "id": "ff8994e9-8fd5-4297-a49f-ba6d383e0647",
   "metadata": {},
   "outputs": [
    {
     "name": "stdin",
     "output_type": "stream",
     "text": [
      "Enter a list of integers separated by spaces:  34 45  445 56 78 34 35 36 38\n"
     ]
    },
    {
     "name": "stdout",
     "output_type": "stream",
     "text": [
      "The average of the entered numbers is: 89.0\n",
      "Program execution finished.\n"
     ]
    }
   ],
   "source": [
    "\n",
    "  def find_average():\n",
    "    try:\n",
    "        \n",
    "        user_input = input(\"Enter a list of integers separated by spaces: \")\n",
    "        numbers = list(map(int, user_input.split()))  \n",
    "\n",
    "        if not numbers:\n",
    "            raise ValueError(\"Error: The list is empty. Please enter at least one number.\")\n",
    "\n",
    "        average = sum(numbers) / len(numbers)\n",
    "        print(f\"The average of the entered numbers is: {average}\")\n",
    "\n",
    "    except ValueError as e:\n",
    "        print(f\"Invalid input! Enter Integers\")\n",
    "\n",
    "    finally:\n",
    "        print(\"Program execution finished.\") \n",
    "\n",
    "find_average()\n"
   ]
  },
  {
   "cell_type": "markdown",
   "id": "6a55ad49-07c3-4f01-8dde-6e3c7e431660",
   "metadata": {},
   "source": [
    "## Exercise 7\n",
    "Write a Python program that prompts the user to input a filename and writes a string to that file. Use try-except blocks to handle any exceptions that might occur and print a welcome message if there is no exception occurred.\n"
   ]
  },
  {
   "cell_type": "code",
   "execution_count": 19,
   "id": "a63e7c64-064a-40b5-8243-174f1c49d51a",
   "metadata": {},
   "outputs": [
    {
     "name": "stdin",
     "output_type": "stream",
     "text": [
      "Enter a file name:  sample file\n",
      "Enter the content to write into this file:  hlo ,happy to connect you\n"
     ]
    },
    {
     "name": "stdout",
     "output_type": "stream",
     "text": [
      "Welcome! The content has been successfully written to the file.\n"
     ]
    }
   ],
   "source": [
    "try:\n",
    "    file_name = input('Enter a file name: ')\n",
    "    content = input('Enter the content to write into this file: ')\n",
    "\n",
    "    with open(file_name,'w') as file:\n",
    "        file.write(content)\n",
    "except Exception as e:\n",
    "    print(f\"An error occurred: {e}\")\n",
    "else:\n",
    "    print(\"Welcome! The content has been successfully written to the file.\")"
   ]
  },
  {
   "cell_type": "code",
   "execution_count": null,
   "id": "541421e6-682b-49cd-ad3c-ec51f93f65ff",
   "metadata": {},
   "outputs": [],
   "source": []
  }
 ],
 "metadata": {
  "kernelspec": {
   "display_name": "Python [conda env:base] *",
   "language": "python",
   "name": "conda-base-py"
  },
  "language_info": {
   "codemirror_mode": {
    "name": "ipython",
    "version": 3
   },
   "file_extension": ".py",
   "mimetype": "text/x-python",
   "name": "python",
   "nbconvert_exporter": "python",
   "pygments_lexer": "ipython3",
   "version": "3.12.7"
  }
 },
 "nbformat": 4,
 "nbformat_minor": 5
}
