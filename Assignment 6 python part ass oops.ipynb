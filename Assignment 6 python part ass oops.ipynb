{
 "cells": [
  {
   "cell_type": "markdown",
   "id": "c3ee46b8-040c-4914-8ffe-a549ca4e425b",
   "metadata": {},
   "source": [
    "## Question 1\n",
    "Build a program to manage a university's course catalog. You want to define a base class Course that has the following properties:\n",
    "course_code: a string representing the course code (e.g., \"CS101\")\n",
    "course_name: a string representing the course name (e.g., \"Introduction to Computer Science\")\n",
    "credit_hours: an integer representing the credit hours for the course (e.g., 3)\n",
    "You also want to define two subclasses CoreCourse and ElectiveCourse, which inherit from the Course class.\n",
    "CoreCourse should have an additional property required_for_major which is a boolean representing whether the course is required for a particular major.\n",
    "ElectiveCourse should have an additional property elective_type which is a string representing the type of elective (e.g., \"general\", \"technical\", \"liberal arts\").\n"
   ]
  },
  {
   "cell_type": "code",
   "execution_count": 3,
   "id": "f47153a1-2e87-4b6b-8567-7bfbf88d9770",
   "metadata": {},
   "outputs": [],
   "source": [
    "class Course:\n",
    "    def __init__(self, course_code, course_name, credit_hours):\n",
    "        self.course_code = course_code\n",
    "        self.course_name = course_name\n",
    "        self.credit_hours = credit_hours\n",
    "\n",
    "    def display(self):\n",
    "        return f\"Course Code: {self.course_code}, Course Name: {self.course_name}, Credit Hours: {self.credit_hours}\"\n",
    "\n",
    "class CoreCourse(Course):\n",
    "    def __init__(self, course_code, course_name, credit_hours, required_for_major):\n",
    "        super().__init__(course_code, course_name, credit_hours)\n",
    "        self.required_for_major = required_for_major\n",
    "        \n",
    "    def display(self):\n",
    "        if self.required_for_major:\n",
    "            status ='Required'\n",
    "        else:\n",
    "            status ='Not required'\n",
    "        return super().display() + f\", Required for Major: {status}\"\n",
    "\n",
    "class ElectiveCourse(Course):\n",
    "    def __init__(self, course_code, course_name, credit_hours, elective_type):\n",
    "        super().__init__(course_code, course_name, credit_hours)\n",
    "        self.elective_type = elective_type\n",
    "\n",
    "    def display(self):\n",
    "        return super().display() + f\", Elective type : {self.elective_type}\"\n"
   ]
  },
  {
   "cell_type": "code",
   "execution_count": 9,
   "id": "2db7813c-a0d2-43be-bb78-44b781e962a5",
   "metadata": {},
   "outputs": [
    {
     "name": "stdout",
     "output_type": "stream",
     "text": [
      "Course Code: MATH201, Course Name: Calculus II, Credit Hours: 4, Required for Major: Required\n",
      "Course Code: CS220, Course Name: Mobile App Development, Credit Hours: 3, Elective type : technical\n"
     ]
    }
   ],
   "source": [
    "core_course = CoreCourse(\"MATH201\", \"Calculus II\", 4, True)\n",
    "elective = ElectiveCourse(\"CS220\", \"Mobile App Development\", 3, \"technical\")\n",
    "\n",
    "print(core_course.display())\n",
    "print(elective.display())"
   ]
  },
  {
   "cell_type": "markdown",
   "id": "efe9215f-bcc0-467b-adb2-95f4710258af",
   "metadata": {},
   "source": [
    "## Question 2\n",
    "Create a Python module named employee that contains a class Employee with attributes name, salary and methods get_name() and get_salary(). Write a program to use this module to create an object of the Employee class and display its name and salary.\n"
   ]
  },
  {
   "cell_type": "code",
   "execution_count": 70,
   "id": "6932cd73-a8ff-4061-9e74-15f79b38d296",
   "metadata": {},
   "outputs": [],
   "source": [
    "class Employee:\n",
    "    def __init__(self, name, salary):\n",
    "        self.name = name\n",
    "        self.salary = salary\n",
    "\n",
    "    def get_name(self):\n",
    "        return f\"Name : {self.name}\"\n",
    "\n",
    "    def get_salary(self):\n",
    "        return f\"Salary : {self.salary}\""
   ]
  },
  {
   "cell_type": "code",
   "execution_count": 72,
   "id": "1c6e61e2-11c5-474f-8c98-25231a60dee8",
   "metadata": {},
   "outputs": [],
   "source": [
    "# Using module employee \n",
    "from employee import Employee"
   ]
  },
  {
   "cell_type": "code",
   "execution_count": 79,
   "id": "7df4a483-f2e8-4460-b0bf-83ade6f10e7f",
   "metadata": {},
   "outputs": [
    {
     "name": "stdout",
     "output_type": "stream",
     "text": [
      "Name : jack\n",
      "Salary : 50000\n"
     ]
    }
   ],
   "source": [
    "emp1 = Employee('jack', 50000)\n",
    "print(emp1.get_name())\n",
    "print(emp1.get_salary())"
   ]
  },
  {
   "cell_type": "code",
   "execution_count": null,
   "id": "710cc8cc-4b2a-4e93-9008-69664f0696de",
   "metadata": {},
   "outputs": [],
   "source": []
  },
  {
   "cell_type": "code",
   "execution_count": null,
   "id": "f10a9872-c508-42ed-a141-ce8ad7e42fe1",
   "metadata": {},
   "outputs": [],
   "source": []
  }
 ],
 "metadata": {
  "kernelspec": {
   "display_name": "Python [conda env:base] *",
   "language": "python",
   "name": "conda-base-py"
  },
  "language_info": {
   "codemirror_mode": {
    "name": "ipython",
    "version": 3
   },
   "file_extension": ".py",
   "mimetype": "text/x-python",
   "name": "python",
   "nbconvert_exporter": "python",
   "pygments_lexer": "ipython3",
   "version": "3.12.7"
  }
 },
 "nbformat": 4,
 "nbformat_minor": 5
}
